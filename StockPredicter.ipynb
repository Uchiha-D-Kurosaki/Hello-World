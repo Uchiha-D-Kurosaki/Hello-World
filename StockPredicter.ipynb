{
  "nbformat": 4,
  "nbformat_minor": 0,
  "metadata": {
    "colab": {
      "name": "Welcome To Colaboratory",
      "provenance": [],
      "collapsed_sections": [],
      "include_colab_link": true
    },
    "kernelspec": {
      "display_name": "Python 3",
      "name": "python3"
    }
  },
  "cells": [
    {
      "cell_type": "markdown",
      "metadata": {
        "id": "view-in-github",
        "colab_type": "text"
      },
      "source": [
        "<a href=\"https://colab.research.google.com/github/Uchiha-D-Kurosaki/Hello-World/blob/master/StockPredicter.ipynb\" target=\"_parent\"><img src=\"https://colab.research.google.com/assets/colab-badge.svg\" alt=\"Open In Colab\"/></a>"
      ]
    },
    {
      "cell_type": "code",
      "metadata": {
        "id": "m6Voc5RQdFbY"
      },
      "source": [
        "import math\n",
        "import pandas_datareader as web\n",
        "import numpy as np\n",
        "import pandas as pd\n",
        "from sklearn.preprocessing import MinMaxScaler\n",
        "from keras.models import Sequential \n",
        "from keras.layers import Dense ,LSTM \n",
        "import matplotlib.pyplot as plt\n",
        "plt.style.use('fivethirtyeight')\n"
      ],
      "execution_count": 52,
      "outputs": []
    },
    {
      "cell_type": "code",
      "metadata": {
        "colab": {
          "base_uri": "https://localhost:8080/",
          "height": 431
        },
        "id": "sFI-5YlYjYB6",
        "outputId": "62d0b8fc-b4e6-4bec-a20c-b3c39f824098"
      },
      "source": [
        "#Get the stock quote\n",
        "df = web.DataReader('AAPL', data_source='yahoo', start='2015-01-01', end='2020-12-30')\n",
        "#show the tabular data\n",
        "df\n"
      ],
      "execution_count": 54,
      "outputs": [
        {
          "output_type": "execute_result",
          "data": {
            "text/html": [
              "<div>\n",
              "<style scoped>\n",
              "    .dataframe tbody tr th:only-of-type {\n",
              "        vertical-align: middle;\n",
              "    }\n",
              "\n",
              "    .dataframe tbody tr th {\n",
              "        vertical-align: top;\n",
              "    }\n",
              "\n",
              "    .dataframe thead th {\n",
              "        text-align: right;\n",
              "    }\n",
              "</style>\n",
              "<table border=\"1\" class=\"dataframe\">\n",
              "  <thead>\n",
              "    <tr style=\"text-align: right;\">\n",
              "      <th></th>\n",
              "      <th>High</th>\n",
              "      <th>Low</th>\n",
              "      <th>Open</th>\n",
              "      <th>Close</th>\n",
              "      <th>Volume</th>\n",
              "      <th>Adj Close</th>\n",
              "    </tr>\n",
              "    <tr>\n",
              "      <th>Date</th>\n",
              "      <th></th>\n",
              "      <th></th>\n",
              "      <th></th>\n",
              "      <th></th>\n",
              "      <th></th>\n",
              "      <th></th>\n",
              "    </tr>\n",
              "  </thead>\n",
              "  <tbody>\n",
              "    <tr>\n",
              "      <th>2015-01-02</th>\n",
              "      <td>27.860001</td>\n",
              "      <td>26.837500</td>\n",
              "      <td>27.847500</td>\n",
              "      <td>27.332500</td>\n",
              "      <td>212818400.0</td>\n",
              "      <td>24.861401</td>\n",
              "    </tr>\n",
              "    <tr>\n",
              "      <th>2015-01-05</th>\n",
              "      <td>27.162500</td>\n",
              "      <td>26.352501</td>\n",
              "      <td>27.072500</td>\n",
              "      <td>26.562500</td>\n",
              "      <td>257142000.0</td>\n",
              "      <td>24.161013</td>\n",
              "    </tr>\n",
              "    <tr>\n",
              "      <th>2015-01-06</th>\n",
              "      <td>26.857500</td>\n",
              "      <td>26.157499</td>\n",
              "      <td>26.635000</td>\n",
              "      <td>26.565001</td>\n",
              "      <td>263188400.0</td>\n",
              "      <td>24.163294</td>\n",
              "    </tr>\n",
              "    <tr>\n",
              "      <th>2015-01-07</th>\n",
              "      <td>27.049999</td>\n",
              "      <td>26.674999</td>\n",
              "      <td>26.799999</td>\n",
              "      <td>26.937500</td>\n",
              "      <td>160423600.0</td>\n",
              "      <td>24.502111</td>\n",
              "    </tr>\n",
              "    <tr>\n",
              "      <th>2015-01-08</th>\n",
              "      <td>28.037500</td>\n",
              "      <td>27.174999</td>\n",
              "      <td>27.307501</td>\n",
              "      <td>27.972500</td>\n",
              "      <td>237458000.0</td>\n",
              "      <td>25.443539</td>\n",
              "    </tr>\n",
              "    <tr>\n",
              "      <th>...</th>\n",
              "      <td>...</td>\n",
              "      <td>...</td>\n",
              "      <td>...</td>\n",
              "      <td>...</td>\n",
              "      <td>...</td>\n",
              "      <td>...</td>\n",
              "    </tr>\n",
              "    <tr>\n",
              "      <th>2020-12-23</th>\n",
              "      <td>132.429993</td>\n",
              "      <td>130.779999</td>\n",
              "      <td>132.160004</td>\n",
              "      <td>130.960007</td>\n",
              "      <td>88223700.0</td>\n",
              "      <td>130.764603</td>\n",
              "    </tr>\n",
              "    <tr>\n",
              "      <th>2020-12-24</th>\n",
              "      <td>133.460007</td>\n",
              "      <td>131.100006</td>\n",
              "      <td>131.320007</td>\n",
              "      <td>131.970001</td>\n",
              "      <td>54930100.0</td>\n",
              "      <td>131.773087</td>\n",
              "    </tr>\n",
              "    <tr>\n",
              "      <th>2020-12-28</th>\n",
              "      <td>137.339996</td>\n",
              "      <td>133.509995</td>\n",
              "      <td>133.990005</td>\n",
              "      <td>136.690002</td>\n",
              "      <td>124486200.0</td>\n",
              "      <td>136.486053</td>\n",
              "    </tr>\n",
              "    <tr>\n",
              "      <th>2020-12-29</th>\n",
              "      <td>138.789993</td>\n",
              "      <td>134.339996</td>\n",
              "      <td>138.050003</td>\n",
              "      <td>134.869995</td>\n",
              "      <td>121047300.0</td>\n",
              "      <td>134.668762</td>\n",
              "    </tr>\n",
              "    <tr>\n",
              "      <th>2020-12-30</th>\n",
              "      <td>135.990005</td>\n",
              "      <td>133.399994</td>\n",
              "      <td>135.580002</td>\n",
              "      <td>133.720001</td>\n",
              "      <td>96452100.0</td>\n",
              "      <td>133.520477</td>\n",
              "    </tr>\n",
              "  </tbody>\n",
              "</table>\n",
              "<p>1510 rows × 6 columns</p>\n",
              "</div>"
            ],
            "text/plain": [
              "                  High         Low  ...       Volume   Adj Close\n",
              "Date                                ...                         \n",
              "2015-01-02   27.860001   26.837500  ...  212818400.0   24.861401\n",
              "2015-01-05   27.162500   26.352501  ...  257142000.0   24.161013\n",
              "2015-01-06   26.857500   26.157499  ...  263188400.0   24.163294\n",
              "2015-01-07   27.049999   26.674999  ...  160423600.0   24.502111\n",
              "2015-01-08   28.037500   27.174999  ...  237458000.0   25.443539\n",
              "...                ...         ...  ...          ...         ...\n",
              "2020-12-23  132.429993  130.779999  ...   88223700.0  130.764603\n",
              "2020-12-24  133.460007  131.100006  ...   54930100.0  131.773087\n",
              "2020-12-28  137.339996  133.509995  ...  124486200.0  136.486053\n",
              "2020-12-29  138.789993  134.339996  ...  121047300.0  134.668762\n",
              "2020-12-30  135.990005  133.399994  ...   96452100.0  133.520477\n",
              "\n",
              "[1510 rows x 6 columns]"
            ]
          },
          "metadata": {
            "tags": []
          },
          "execution_count": 54
        }
      ]
    },
    {
      "cell_type": "code",
      "metadata": {
        "colab": {
          "base_uri": "https://localhost:8080/"
        },
        "id": "Tz_vvCfflC_Y",
        "outputId": "6a85d113-83e8-4537-a5f0-6b769d104d6c"
      },
      "source": [
        "#Get the number of rows and columns in dataset\n",
        "df.shape"
      ],
      "execution_count": 55,
      "outputs": [
        {
          "output_type": "execute_result",
          "data": {
            "text/plain": [
              "(1510, 6)"
            ]
          },
          "metadata": {
            "tags": []
          },
          "execution_count": 55
        }
      ]
    },
    {
      "cell_type": "code",
      "metadata": {
        "colab": {
          "base_uri": "https://localhost:8080/",
          "height": 344
        },
        "id": "YO9wUwtTlJjt",
        "outputId": "57978ec7-56f1-4eaa-adeb-332aafe54e98"
      },
      "source": [
        "#visualizing the closing price history\n",
        "plt.figure(figsize=(16,8))\n",
        "plt.title('Close Price History')\n",
        "plt.plot(df['Close'])\n",
        "plt.xlabel('Date',fontsize=18)\n",
        "plt.ylabel('Closing Price USD($)',fontsize=18)\n",
        "plt.show()\n"
      ],
      "execution_count": 56,
      "outputs": [
        {
          "output_type": "display_data",
          "data": {
            "image/png": "[encoded data removed]",
            "text/plain": [
              "<Figure size 1152x576 with 1 Axes>"
            ]
          },
          "metadata": {
            "tags": []
          }
        }
      ]
    },
    {
      "cell_type": "code",
      "metadata": {
        "colab": {
          "base_uri": "https://localhost:8080/"
        },
        "id": "Pqs5dQeTnWzo",
        "outputId": "b5e35ad2-6413-4a60-bde4-59f87dc52d58"
      },
      "source": [
        "#Create a new data frame with only close column\n",
        "data = df.filter(['Close'])\n",
        "#Convert the data frame to a numpy array\n",
        "dataset = data.values\n",
        "#Get the number of rows to train the model on\n",
        "training_data_len = math.ceil(len(dataset)*.8)\n",
        "\n",
        "training_data_len"
      ],
      "execution_count": 57,
      "outputs": [
        {
          "output_type": "execute_result",
          "data": {
            "text/plain": [
              "1208"
            ]
          },
          "metadata": {
            "tags": []
          },
          "execution_count": 57
        }
      ]
    },
    {
      "cell_type": "code",
      "metadata": {
        "colab": {
          "base_uri": "https://localhost:8080/"
        },
        "id": "dHYz21aTn3CN",
        "outputId": "81212838-b1b3-44c3-f9b1-96e096de162b"
      },
      "source": [
        "#Scale the data\n",
        "scaler = MinMaxScaler(feature_range=(0,1))\n",
        "scaled_data = scaler.fit_transform(dataset)\n",
        "\n",
        "scaled_data\n"
      ],
      "execution_count": 58,
      "outputs": [
        {
          "output_type": "execute_result",
          "data": {
            "text/plain": [
              "array([[0.04160643],\n",
              "       [0.03485825],\n",
              "       [0.03488017],\n",
              "       ...,\n",
              "       [1.        ],\n",
              "       [0.98404971],\n",
              "       [0.97397133]])"
            ]
          },
          "metadata": {
            "tags": []
          },
          "execution_count": 58
        }
      ]
    },
    {
      "cell_type": "code",
      "metadata": {
        "colab": {
          "base_uri": "https://localhost:8080/"
        },
        "id": "h5Bv5WynoUI9",
        "outputId": "4018a9ba-23a9-4cdd-875b-afac884a1785"
      },
      "source": [
        "#Create the training dataset\n",
        "#create the scaled training dataset\n",
        "train_data = scaled_data[0:training_data_len, :]\n",
        "#Split the data into x_train and y_train data sets\n",
        "x_train = []\n",
        "y_train = []\n",
        "for i in range(60, len(train_data)):\n",
        "  x_train.append(train_data[i-60:i, 0])\n",
        "  y_train.append(train_data[i, 0])\n",
        "  if i<=61:\n",
        "    print(x_train)\n",
        "    print(y_train)\n",
        "    print()"
      ],
      "execution_count": 59,
      "outputs": [
        {
          "output_type": "stream",
          "text": [
            "[array([0.04160643, 0.03485825, 0.03488017, 0.0381447 , 0.04721529,\n",
            "       0.04747821, 0.04143114, 0.04355638, 0.04263618, 0.0361071 ,\n",
            "       0.0342886 , 0.04026994, 0.04208844, 0.04833269, 0.04960345,\n",
            "       0.04986635, 0.04119014, 0.05470838, 0.06257395, 0.05876168,\n",
            "       0.06198238, 0.06202621, 0.06401998, 0.06485256, 0.06263968,\n",
            "       0.06437054, 0.06940975, 0.07567591, 0.07913764, 0.08049604,\n",
            "       0.08213927, 0.08408922, 0.08349765, 0.08579817, 0.09346655,\n",
            "       0.09164804, 0.08424257, 0.08781386, 0.08351959, 0.08489987,\n",
            "       0.08549144, 0.08369483, 0.0790281 , 0.07944437, 0.0806275 ,\n",
            "       0.07486527, 0.06989177, 0.0747338 , 0.07284957, 0.07582928,\n",
            "       0.0804084 , 0.08354148, 0.08141625, 0.07791071, 0.08078086,\n",
            "       0.07964157, 0.07238947, 0.0742737 , 0.07210465, 0.07894046])]\n",
            "[0.0746899850233729]\n",
            "\n",
            "[array([0.04160643, 0.03485825, 0.03488017, 0.0381447 , 0.04721529,\n",
            "       0.04747821, 0.04143114, 0.04355638, 0.04263618, 0.0361071 ,\n",
            "       0.0342886 , 0.04026994, 0.04208844, 0.04833269, 0.04960345,\n",
            "       0.04986635, 0.04119014, 0.05470838, 0.06257395, 0.05876168,\n",
            "       0.06198238, 0.06202621, 0.06401998, 0.06485256, 0.06263968,\n",
            "       0.06437054, 0.06940975, 0.07567591, 0.07913764, 0.08049604,\n",
            "       0.08213927, 0.08408922, 0.08349765, 0.08579817, 0.09346655,\n",
            "       0.09164804, 0.08424257, 0.08781386, 0.08351959, 0.08489987,\n",
            "       0.08549144, 0.08369483, 0.0790281 , 0.07944437, 0.0806275 ,\n",
            "       0.07486527, 0.06989177, 0.0747338 , 0.07284957, 0.07582928,\n",
            "       0.0804084 , 0.08354148, 0.08141625, 0.07791071, 0.08078086,\n",
            "       0.07964157, 0.07238947, 0.0742737 , 0.07210465, 0.07894046]), array([0.03485825, 0.03488017, 0.0381447 , 0.04721529, 0.04747821,\n",
            "       0.04143114, 0.04355638, 0.04263618, 0.0361071 , 0.0342886 ,\n",
            "       0.04026994, 0.04208844, 0.04833269, 0.04960345, 0.04986635,\n",
            "       0.04119014, 0.05470838, 0.06257395, 0.05876168, 0.06198238,\n",
            "       0.06202621, 0.06401998, 0.06485256, 0.06263968, 0.06437054,\n",
            "       0.06940975, 0.07567591, 0.07913764, 0.08049604, 0.08213927,\n",
            "       0.08408922, 0.08349765, 0.08579817, 0.09346655, 0.09164804,\n",
            "       0.08424257, 0.08781386, 0.08351959, 0.08489987, 0.08549144,\n",
            "       0.08369483, 0.0790281 , 0.07944437, 0.0806275 , 0.07486527,\n",
            "       0.06989177, 0.0747338 , 0.07284957, 0.07582928, 0.0804084 ,\n",
            "       0.08354148, 0.08141625, 0.07791071, 0.08078086, 0.07964157,\n",
            "       0.07238947, 0.0742737 , 0.07210465, 0.07894046, 0.07468999])]\n",
            "[0.0746899850233729, 0.07429561076308586]\n",
            "\n"
          ],
          "name": "stdout"
        }
      ]
    },
    {
      "cell_type": "code",
      "metadata": {
        "colab": {
          "base_uri": "https://localhost:8080/"
        },
        "id": "CEJ719udsyEF",
        "outputId": "a022b710-edac-4900-e2b2-aa7ff45028d9"
      },
      "source": [
        "#convert the x_train and y_train datasets to numpy array\n",
        "x_train, y_train = np.array(x_train), np.array(y_train)\n",
        "#reshape the data\n",
        "x_train = np.reshape(x_train, (x_train.shape[0], x_train.shape[1], 1))\n",
        "x_train.shape\n"
      ],
      "execution_count": 60,
      "outputs": [
        {
          "output_type": "execute_result",
          "data": {
            "text/plain": [
              "(1148, 60, 1)"
            ]
          },
          "metadata": {
            "tags": []
          },
          "execution_count": 60
        }
      ]
    },
    {
      "cell_type": "code",
      "metadata": {
        "id": "ZDjoAxkst0_b"
      },
      "source": [
        "#build the LSTM Model\n",
        "model = Sequential()\n",
        "model.add(LSTM(50, return_sequences=True, input_shape=(x_train.shape[1], 1)))\n",
        "model.add(LSTM(50, return_sequences=False))\n",
        "model.add(Dense(25))\n",
        "model.add(Dense(1))"
      ],
      "execution_count": 61,
      "outputs": []
    },
    {
      "cell_type": "code",
      "metadata": {
        "id": "akT_hpT3uikr"
      },
      "source": [
        "#Compile the model\n",
        "model.compile(optimizer='adam', loss='mean_squared_error')"
      ],
      "execution_count": 62,
      "outputs": []
    },
    {
      "cell_type": "code",
      "metadata": {
        "colab": {
          "base_uri": "https://localhost:8080/"
        },
        "id": "nxZqXJ4Eusv6",
        "outputId": "bb764810-67b8-406b-b701-a3769c998fd4"
      },
      "source": [
        "#Train the model\n",
        "model.fit(x_train, y_train, batch_size=1, epochs=1)\n",
        "\n"
      ],
      "execution_count": 63,
      "outputs": [
        {
          "output_type": "stream",
          "text": [
            "1148/1148 [==============================] - 33s 26ms/step - loss: 0.0016\n"
          ],
          "name": "stdout"
        },
        {
          "output_type": "execute_result",
          "data": {
            "text/plain": [
              "<tensorflow.python.keras.callbacks.History at 0x7effde6b6c50>"
            ]
          },
          "metadata": {
            "tags": []
          },
          "execution_count": 63
        }
      ]
    },
    {
      "cell_type": "code",
      "metadata": {
        "id": "G_UEMvH8vOMr"
      },
      "source": [
        "#Create the testing data set\n",
        "#Create a new array containing scaled values from index 1149 to 1800\n",
        "test_data = scaled_data[training_data_len - 60: , :]\n",
        "#Create the data sets x_test and y_test\n",
        "x_test = []\n",
        "y_test = dataset[training_data_len:, :]\n",
        "for i in range(60, len(test_data)):\n",
        "  x_test.append(test_data[i-60:i, 0])"
      ],
      "execution_count": 65,
      "outputs": []
    },
    {
      "cell_type": "code",
      "metadata": {
        "id": "cjxz270ywIWf"
      },
      "source": [
        "#Convert the data to a numpy array\n",
        "x_test = np.array(x_test)"
      ],
      "execution_count": 66,
      "outputs": []
    },
    {
      "cell_type": "code",
      "metadata": {
        "id": "QA2h7sLewRZC"
      },
      "source": [
        "#reshape the data\n",
        "x_test = np.reshape(x_test, (x_test.shape[0], x_test.shape[1], 1))\n"
      ],
      "execution_count": 67,
      "outputs": []
    },
    {
      "cell_type": "code",
      "metadata": {
        "id": "eyo5dbPcydJl"
      },
      "source": [
        "#Get models's predicted price value\n",
        "predictions = model.predict(x_test)\n",
        "predictions = scaler.inverse_transform(predictions)\n"
      ],
      "execution_count": 68,
      "outputs": []
    },
    {
      "cell_type": "code",
      "metadata": {
        "colab": {
          "base_uri": "https://localhost:8080/"
        },
        "id": "J2oky_Wwy6Ay",
        "outputId": "0a2c40ac-6599-4ef6-f05a-2ba78053d287"
      },
      "source": [
        "#Get the root mean squared error(RMSE)\n",
        "rmse = np.sqrt(np.mean( predictions - y_test )**2 )\n",
        "rmse"
      ],
      "execution_count": 69,
      "outputs": [
        {
          "output_type": "execute_result",
          "data": {
            "text/plain": [
              "7.197674163919411"
            ]
          },
          "metadata": {
            "tags": []
          },
          "execution_count": 69
        }
      ]
    },
    {
      "cell_type": "code",
      "metadata": {
        "colab": {
          "base_uri": "https://localhost:8080/",
          "height": 465
        },
        "id": "iLrVjNCsztj8",
        "outputId": "49a7eb25-cf4c-44e3-aedf-a3cb402df2ae"
      },
      "source": [
        "#Plot the data\n",
        "train = data[:training_data_len]\n",
        "valid = data[training_data_len:]\n",
        "valid['Predictions'] = predictions\n",
        "#Visulaize the data\n",
        "plt.figure(figsize=(16,8))\n",
        "plt.title('Model')\n",
        "plt.xlabel('Date', fontsize=18)\n",
        "plt.ylabel('Close Price USD ($)', fontsize=18)\n",
        "plt.plot(train['Close'])\n",
        "plt.plot(valid[['Close', 'Predictions']])\n",
        "plt.legend(['Train', 'Val', 'Predictions'], loc='lower right')\n",
        "plt.show()"
      ],
      "execution_count": 70,
      "outputs": [
        {
          "output_type": "stream",
          "text": [
            "/usr/local/lib/python3.7/dist-packages/ipykernel_launcher.py:4: SettingWithCopyWarning: \n",
            "A value is trying to be set on a copy of a slice from a DataFrame.\n",
            "Try using .loc[row_indexer,col_indexer] = value instead\n",
            "\n",
            "See the caveats in the documentation: https://pandas.pydata.org/pandas-docs/stable/user_guide/indexing.html#returning-a-view-versus-a-copy\n",
            "  after removing the cwd from sys.path.\n"
          ],
          "name": "stderr"
        },
        {
          "output_type": "display_data",
          "data": {
            "image/png": "[encoded data removed]",
            "text/plain": [
              "<Figure size 1152x576 with 1 Axes>"
            ]
          },
          "metadata": {
            "tags": []
          }
        }
      ]
    },
    {
      "cell_type": "code",
      "metadata": {
        "colab": {
          "base_uri": "https://localhost:8080/",
          "height": 431
        },
        "id": "0ZpU-uZD1KrD",
        "outputId": "f2c4a15d-b0db-4119-986c-67491654be47"
      },
      "source": [
        "#Show the actual price and predicted price\n",
        "valid"
      ],
      "execution_count": 71,
      "outputs": [
        {
          "output_type": "execute_result",
          "data": {
            "text/html": [
              "<div>\n",
              "<style scoped>\n",
              "    .dataframe tbody tr th:only-of-type {\n",
              "        vertical-align: middle;\n",
              "    }\n",
              "\n",
              "    .dataframe tbody tr th {\n",
              "        vertical-align: top;\n",
              "    }\n",
              "\n",
              "    .dataframe thead th {\n",
              "        text-align: right;\n",
              "    }\n",
              "</style>\n",
              "<table border=\"1\" class=\"dataframe\">\n",
              "  <thead>\n",
              "    <tr style=\"text-align: right;\">\n",
              "      <th></th>\n",
              "      <th>Close</th>\n",
              "      <th>Predictions</th>\n",
              "    </tr>\n",
              "    <tr>\n",
              "      <th>Date</th>\n",
              "      <th></th>\n",
              "      <th></th>\n",
              "    </tr>\n",
              "  </thead>\n",
              "  <tbody>\n",
              "    <tr>\n",
              "      <th>2019-10-21</th>\n",
              "      <td>60.127499</td>\n",
              "      <td>56.504959</td>\n",
              "    </tr>\n",
              "    <tr>\n",
              "      <th>2019-10-22</th>\n",
              "      <td>59.990002</td>\n",
              "      <td>56.792137</td>\n",
              "    </tr>\n",
              "    <tr>\n",
              "      <th>2019-10-23</th>\n",
              "      <td>60.794998</td>\n",
              "      <td>57.066696</td>\n",
              "    </tr>\n",
              "    <tr>\n",
              "      <th>2019-10-24</th>\n",
              "      <td>60.895000</td>\n",
              "      <td>57.380585</td>\n",
              "    </tr>\n",
              "    <tr>\n",
              "      <th>2019-10-25</th>\n",
              "      <td>61.645000</td>\n",
              "      <td>57.694820</td>\n",
              "    </tr>\n",
              "    <tr>\n",
              "      <th>...</th>\n",
              "      <td>...</td>\n",
              "      <td>...</td>\n",
              "    </tr>\n",
              "    <tr>\n",
              "      <th>2020-12-23</th>\n",
              "      <td>130.960007</td>\n",
              "      <td>114.170921</td>\n",
              "    </tr>\n",
              "    <tr>\n",
              "      <th>2020-12-24</th>\n",
              "      <td>131.970001</td>\n",
              "      <td>114.856750</td>\n",
              "    </tr>\n",
              "    <tr>\n",
              "      <th>2020-12-28</th>\n",
              "      <td>136.690002</td>\n",
              "      <td>115.537186</td>\n",
              "    </tr>\n",
              "    <tr>\n",
              "      <th>2020-12-29</th>\n",
              "      <td>134.869995</td>\n",
              "      <td>116.548401</td>\n",
              "    </tr>\n",
              "    <tr>\n",
              "      <th>2020-12-30</th>\n",
              "      <td>133.720001</td>\n",
              "      <td>117.434540</td>\n",
              "    </tr>\n",
              "  </tbody>\n",
              "</table>\n",
              "<p>302 rows × 2 columns</p>\n",
              "</div>"
            ],
            "text/plain": [
              "                 Close  Predictions\n",
              "Date                               \n",
              "2019-10-21   60.127499    56.504959\n",
              "2019-10-22   59.990002    56.792137\n",
              "2019-10-23   60.794998    57.066696\n",
              "2019-10-24   60.895000    57.380585\n",
              "2019-10-25   61.645000    57.694820\n",
              "...                ...          ...\n",
              "2020-12-23  130.960007   114.170921\n",
              "2020-12-24  131.970001   114.856750\n",
              "2020-12-28  136.690002   115.537186\n",
              "2020-12-29  134.869995   116.548401\n",
              "2020-12-30  133.720001   117.434540\n",
              "\n",
              "[302 rows x 2 columns]"
            ]
          },
          "metadata": {
            "tags": []
          },
          "execution_count": 71
        }
      ]
    },
    {
      "cell_type": "code",
      "metadata": {
        "colab": {
          "base_uri": "https://localhost:8080/"
        },
        "id": "aKv_pUV-1cIy",
        "outputId": "21751f1c-d78f-4254-bdc0-3f56030f195f"
      },
      "source": [
        "#Get the quote\n",
        "apple_quote = web.DataReader('AAPL', data_source='yahoo', start='2015-01-01', end='2020-12-30')\n",
        "#Create a new dataframe\n",
        "new_df = apple_quote.filter(['Close'])\n",
        "#get the last 60days closing price values and convert the dataframe to an array\n",
        "last_60_days = new_df[-60:].values\n",
        "#Scale the data to be values between 0 and 1\n",
        "last_60_days_scaled = scaler.transform(last_60_days)\n",
        "#Create an empty list\n",
        "x_test = []\n",
        "#Append the past 60 days\n",
        "x_test.append(last_60_days_scaled)\n",
        "#Convert the x_test data set to a numpy array\n",
        "x_test = np.array(x_test)\n",
        "#Reshape the data\n",
        "x_test = np.reshape(x_test, (x_test.shape[0], x_test.shape[1], 1))\n",
        "#Get the predicted scaled price\n",
        "pred_price = model.predict(x_test)\n",
        "#Undo the scaling\n",
        "pred_price = scaler.inverse_transform(pred_price)\n",
        "print(pred_price)"
      ],
      "execution_count": 72,
      "outputs": [
        {
          "output_type": "stream",
          "text": [
            "[[118.06925]]\n"
          ],
          "name": "stdout"
        }
      ]
    },
    {
      "cell_type": "code",
      "metadata": {
        "colab": {
          "base_uri": "https://localhost:8080/",
          "height": 106
        },
        "id": "qgqGujlK3pVk",
        "outputId": "ea94efa9-b514-4835-857a-e9a2751fe743"
      },
      "source": [
        "apple_quote2 = web.DataReader('AAPL', data_source='yahoo', start='2020-12-31', end='2020-12-31')\n",
        "apple_quote2"
      ],
      "execution_count": 73,
      "outputs": [
        {
          "output_type": "execute_result",
          "data": {
            "text/html": [
              "<div>\n",
              "<style scoped>\n",
              "    .dataframe tbody tr th:only-of-type {\n",
              "        vertical-align: middle;\n",
              "    }\n",
              "\n",
              "    .dataframe tbody tr th {\n",
              "        vertical-align: top;\n",
              "    }\n",
              "\n",
              "    .dataframe thead th {\n",
              "        text-align: right;\n",
              "    }\n",
              "</style>\n",
              "<table border=\"1\" class=\"dataframe\">\n",
              "  <thead>\n",
              "    <tr style=\"text-align: right;\">\n",
              "      <th></th>\n",
              "      <th>High</th>\n",
              "      <th>Low</th>\n",
              "      <th>Open</th>\n",
              "      <th>Close</th>\n",
              "      <th>Volume</th>\n",
              "      <th>Adj Close</th>\n",
              "    </tr>\n",
              "    <tr>\n",
              "      <th>Date</th>\n",
              "      <th></th>\n",
              "      <th></th>\n",
              "      <th></th>\n",
              "      <th></th>\n",
              "      <th></th>\n",
              "      <th></th>\n",
              "    </tr>\n",
              "  </thead>\n",
              "  <tbody>\n",
              "    <tr>\n",
              "      <th>2020-12-31</th>\n",
              "      <td>134.740005</td>\n",
              "      <td>131.720001</td>\n",
              "      <td>134.080002</td>\n",
              "      <td>132.690002</td>\n",
              "      <td>99116600</td>\n",
              "      <td>132.49202</td>\n",
              "    </tr>\n",
              "  </tbody>\n",
              "</table>\n",
              "</div>"
            ],
            "text/plain": [
              "                  High         Low        Open       Close    Volume  Adj Close\n",
              "Date                                                                           \n",
              "2020-12-31  134.740005  131.720001  134.080002  132.690002  99116600  132.49202"
            ]
          },
          "metadata": {
            "tags": []
          },
          "execution_count": 73
        }
      ]
    }
  ]
}